{
 "cells": [
  {
   "cell_type": "code",
   "execution_count": 1,
   "id": "58b58491",
   "metadata": {},
   "outputs": [],
   "source": [
    "from urllib import request\n",
    "from bs4 import BeautifulSoup"
   ]
  },
  {
   "cell_type": "code",
   "execution_count": 3,
   "id": "31c28844",
   "metadata": {},
   "outputs": [],
   "source": [
    "# 기상청의 전국 날씨를 얻어온다\n",
    "# 기상청에 접속한다(기상청 접속 주소가 필요하다)\n",
    "target = request.urlopen(\"https://www.weather.go.kr/w/weather/forecast/mid-term.do\")"
   ]
  },
  {
   "cell_type": "code",
   "execution_count": 7,
   "id": "5fc27228",
   "metadata": {},
   "outputs": [],
   "source": [
    "# BeautifulSoup를 이용하여 웹문서를 처리한다\n",
    "soup = BeautifulSoup(target, \"html.parser\")\n",
    "# print(soup)\n",
    "\n",
    "# 원하는 정보 추출\n",
    "for location in soup.select(\"location\"):\n",
    "    print(\"도시 :\", location.select_one(\"city\").string)"
   ]
  },
  {
   "cell_type": "code",
   "execution_count": null,
   "id": "6aa0fa01",
   "metadata": {},
   "outputs": [],
   "source": []
  }
 ],
 "metadata": {
  "kernelspec": {
   "display_name": "Python 3 (ipykernel)",
   "language": "python",
   "name": "python3"
  },
  "language_info": {
   "codemirror_mode": {
    "name": "ipython",
    "version": 3
   },
   "file_extension": ".py",
   "mimetype": "text/x-python",
   "name": "python",
   "nbconvert_exporter": "python",
   "pygments_lexer": "ipython3",
   "version": "3.9.16"
  }
 },
 "nbformat": 4,
 "nbformat_minor": 5
}
