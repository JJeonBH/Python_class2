{
 "cells": [
  {
   "cell_type": "code",
   "execution_count": 1,
   "id": "2887ddc5",
   "metadata": {},
   "outputs": [],
   "source": [
    "# 모듈 불러오기\n",
    "import numpy as np"
   ]
  },
  {
   "cell_type": "code",
   "execution_count": 12,
   "id": "ff74ebb0",
   "metadata": {},
   "outputs": [
    {
     "name": "stdout",
     "output_type": "stream",
     "text": [
      "[1, 2, 3, 4, 5]\n",
      "[1, 2, 3, 4, 5, 4, 5, 6, 7, 8]\n"
     ]
    }
   ],
   "source": [
    "# 배열(리스트) 데이터와 숫자 데이터의 차이\n",
    "# 리스트에 있는 숫자의 특징\n",
    "data1 = [1, 2, 3, 4, 5]\n",
    "data2 = [4, 5, 6, 7, 8]\n",
    "print(data1)\n",
    "sum = data1 + data2\n",
    "print(sum)"
   ]
  },
  {
   "cell_type": "code",
   "execution_count": 16,
   "id": "264396ee",
   "metadata": {},
   "outputs": [
    {
     "name": "stdout",
     "output_type": "stream",
     "text": [
      "[1 2 3 4 5]\n",
      "[4 5 6 7 8]\n",
      "[ 5  7  9 11 13]\n",
      "[-3 -3 -3 -3 -3]\n",
      "[ 4 10 18 28 40]\n",
      "[0.25       0.4        0.5        0.57142857 0.625     ]\n"
     ]
    }
   ],
   "source": [
    "numdata1 = np.array(data1)\n",
    "numdata2 = np.array(data2)\n",
    "print(numdata1)\n",
    "print(numdata2)\n",
    "sum = numdata1 + numdata2\n",
    "print(sum)\n",
    "sum = numdata1 - numdata2\n",
    "print(sum)\n",
    "sum = numdata1 * numdata2\n",
    "print(sum)\n",
    "sum = numdata1 / numdata2\n",
    "print(sum)"
   ]
  },
  {
   "cell_type": "code",
   "execution_count": 20,
   "id": "f407f9be",
   "metadata": {},
   "outputs": [
    {
     "name": "stdout",
     "output_type": "stream",
     "text": [
      "(5,)\n",
      "int32\n"
     ]
    }
   ],
   "source": [
    "# numpy 배열의 형태와 크기를 보여준다\n",
    "print(numdata1.shape)\n",
    "# 타입\n",
    "print(numdata1.dtype)"
   ]
  },
  {
   "cell_type": "code",
   "execution_count": 27,
   "id": "d3319b41",
   "metadata": {},
   "outputs": [
    {
     "name": "stdout",
     "output_type": "stream",
     "text": [
      "(4, 3)\n"
     ]
    }
   ],
   "source": [
    "face = [\n",
    "    [1, 2, 3],\n",
    "    [4, 5, 6],\n",
    "    [7, 8, 9],\n",
    "    [10, 11, 13]\n",
    "]\n",
    "face_data = np.array(face)\n",
    "print(face_data.shape)"
   ]
  },
  {
   "cell_type": "code",
   "execution_count": 28,
   "id": "378905f8",
   "metadata": {},
   "outputs": [
    {
     "name": "stdout",
     "output_type": "stream",
     "text": [
      "[[11 12 13]\n",
      " [14 15 16]\n",
      " [17 18 19]\n",
      " [20 21 23]]\n",
      "[[ 10  20  30]\n",
      " [ 40  50  60]\n",
      " [ 70  80  90]\n",
      " [100 110 130]]\n"
     ]
    }
   ],
   "source": [
    "sum = face_data + 10\n",
    "print(sum)\n",
    "sum = face_data * 10\n",
    "print(sum)"
   ]
  },
  {
   "cell_type": "code",
   "execution_count": 33,
   "id": "23beb5d2",
   "metadata": {},
   "outputs": [
    {
     "name": "stdout",
     "output_type": "stream",
     "text": [
      "[0. 0. 0. 0. 0. 0. 0. 0. 0. 0.]\n"
     ]
    }
   ],
   "source": [
    "num10 = np.zeros(10)\n",
    "print(num10)"
   ]
  },
  {
   "cell_type": "code",
   "execution_count": 38,
   "id": "fe5523b2",
   "metadata": {},
   "outputs": [
    {
     "name": "stdout",
     "output_type": "stream",
     "text": [
      "[[1. 1. 1. 1. 1.]\n",
      " [1. 1. 1. 1. 1.]\n",
      " [1. 1. 1. 1. 1.]\n",
      " [1. 1. 1. 1. 1.]\n",
      " [1. 1. 1. 1. 1.]\n",
      " [1. 1. 1. 1. 1.]\n",
      " [1. 1. 1. 1. 1.]\n",
      " [1. 1. 1. 1. 1.]\n",
      " [1. 1. 1. 1. 1.]\n",
      " [1. 1. 1. 1. 1.]]\n"
     ]
    }
   ],
   "source": [
    "num1 = np.ones((10, 5))\n",
    "print(num1)"
   ]
  },
  {
   "cell_type": "code",
   "execution_count": 51,
   "id": "9f02959b",
   "metadata": {},
   "outputs": [
    {
     "name": "stdout",
     "output_type": "stream",
     "text": [
      "[0 1 2 3 4 5 6 7 8 9]\n",
      "[ 1  2  3  4  5  6  7  8  9 10]\n",
      "[10 12 14 16 18 20]\n"
     ]
    }
   ],
   "source": [
    "number = np.arange(10)\n",
    "print(number)\n",
    "number = np.arange(1, 11)\n",
    "print(number)\n",
    "number = np.arange(10, 21, 2)\n",
    "print(number)"
   ]
  },
  {
   "cell_type": "code",
   "execution_count": 55,
   "id": "1e3d2a20",
   "metadata": {},
   "outputs": [
    {
     "data": {
      "text/plain": [
       "array([10, 12])"
      ]
     },
     "execution_count": 55,
     "metadata": {},
     "output_type": "execute_result"
    }
   ],
   "source": [
    "number[0:2]"
   ]
  },
  {
   "cell_type": "code",
   "execution_count": 57,
   "id": "b0d7ff52",
   "metadata": {},
   "outputs": [
    {
     "name": "stdout",
     "output_type": "stream",
     "text": [
      "['Beomwoo' 'Beomwoo' 'Kim' 'Joan' 'Lee' 'Beomwoo' 'Park' 'Beomwoo']\n"
     ]
    },
    {
     "data": {
      "text/plain": [
       "array(['Beomwoo', 'Beomwoo', 'Kim', 'Joan', 'Lee', 'Beomwoo', 'Park',\n",
       "       'Beomwoo'], dtype='<U7')"
      ]
     },
     "execution_count": 57,
     "metadata": {},
     "output_type": "execute_result"
    }
   ],
   "source": [
    "# 5. Array boolean 인덱싱(마스크)\n",
    "names = ['Beomwoo','Beomwoo','Kim','Joan','Lee','Beomwoo','Park','Beomwoo']\n",
    "names_array = np.array(names)\n",
    "print(names_array)\n",
    "names_array"
   ]
  },
  {
   "cell_type": "code",
   "execution_count": 61,
   "id": "ca9c1590",
   "metadata": {},
   "outputs": [
    {
     "data": {
      "text/plain": [
       "'JoanJoan'"
      ]
     },
     "execution_count": 61,
     "metadata": {},
     "output_type": "execute_result"
    }
   ],
   "source": [
    "names_array[3]*2"
   ]
  },
  {
   "cell_type": "code",
   "execution_count": 77,
   "id": "3f9795cd",
   "metadata": {
    "scrolled": true
   },
   "outputs": [
    {
     "name": "stdout",
     "output_type": "stream",
     "text": [
      "[[ 0.0964247   0.69427578 -0.49027525  0.33142626]\n",
      " [ 0.42966156 -0.7842632  -0.33303789  1.24844399]\n",
      " [-0.88845911  2.00007258 -0.13372733  0.50977905]\n",
      " [-0.19830898  2.54211013  0.65827148  0.26968435]\n",
      " [ 0.22061798 -0.31610221  1.13826988 -1.374607  ]\n",
      " [-0.07495744  0.74831625  0.75952343  0.25008569]\n",
      " [-1.79093267 -0.51907798 -2.42955567 -0.43204259]\n",
      " [-1.34151361 -0.25445637 -0.96987307  0.06189965]]\n"
     ]
    }
   ],
   "source": [
    "data = np.random.randn(8, 4)\n",
    "print(data)"
   ]
  },
  {
   "cell_type": "code",
   "execution_count": 96,
   "id": "cbfbf8cb",
   "metadata": {},
   "outputs": [
    {
     "name": "stdout",
     "output_type": "stream",
     "text": [
      "[ True  True  True False False  True False  True]\n"
     ]
    }
   ],
   "source": [
    "# 마스크 생성\n",
    "mask1 = (names_array == 'Beomwoo') | (names_array == 'Kim')\n",
    "print(mask1)"
   ]
  },
  {
   "cell_type": "code",
   "execution_count": 97,
   "id": "ce254061",
   "metadata": {},
   "outputs": [
    {
     "data": {
      "text/plain": [
       "array([[ 0.0964247 ,  0.69427578, -0.49027525,  0.33142626],\n",
       "       [ 0.42966156, -0.7842632 , -0.33303789,  1.24844399],\n",
       "       [-0.88845911,  2.00007258, -0.13372733,  0.50977905],\n",
       "       [-0.07495744,  0.74831625,  0.75952343,  0.25008569],\n",
       "       [-1.34151361, -0.25445637, -0.96987307,  0.06189965]])"
      ]
     },
     "execution_count": 97,
     "metadata": {},
     "output_type": "execute_result"
    }
   ],
   "source": [
    "data[mask1,:]"
   ]
  },
  {
   "cell_type": "code",
   "execution_count": 101,
   "id": "05867c46",
   "metadata": {},
   "outputs": [
    {
     "name": "stdout",
     "output_type": "stream",
     "text": [
      "[False False  True  True False  True  True  True]\n"
     ]
    },
    {
     "data": {
      "text/plain": [
       "array([[-0.13372733,  0.50977905],\n",
       "       [ 0.65827148,  0.26968435],\n",
       "       [ 0.75952343,  0.25008569],\n",
       "       [-2.42955567, -0.43204259],\n",
       "       [-0.96987307,  0.06189965]])"
      ]
     },
     "execution_count": 101,
     "metadata": {},
     "output_type": "execute_result"
    }
   ],
   "source": [
    "row = data[:,0]<0\n",
    "print(row)\n",
    "data[row,2:4]"
   ]
  },
  {
   "cell_type": "code",
   "execution_count": 103,
   "id": "5497091e",
   "metadata": {},
   "outputs": [],
   "source": [
    "# Num 함수\n",
    "# 수학관련 함수 제공 : 행렬에서 가능한 함수"
   ]
  },
  {
   "cell_type": "code",
   "execution_count": 105,
   "id": "c34fb8d8",
   "metadata": {},
   "outputs": [
    {
     "name": "stdout",
     "output_type": "stream",
     "text": [
      "[[ 0.87580649  0.82232907  0.84000864]\n",
      " [-0.35064655 -1.16992502  0.70087026]\n",
      " [ 2.08989002  1.71885063 -0.20518968]\n",
      " [ 1.22160322  0.60780219 -0.14747513]\n",
      " [-0.67224521  0.61584241 -1.57167636]]\n"
     ]
    }
   ],
   "source": [
    "matrix = np.random.randn(5,3)\n",
    "print(matrix)"
   ]
  },
  {
   "cell_type": "code",
   "execution_count": 110,
   "id": "368b3340",
   "metadata": {},
   "outputs": [
    {
     "data": {
      "text/plain": [
       "array([[0.87580649, 0.82232907, 0.84000864],\n",
       "       [0.35064655, 1.16992502, 0.70087026],\n",
       "       [2.08989002, 1.71885063, 0.20518968],\n",
       "       [1.22160322, 0.60780219, 0.14747513],\n",
       "       [0.67224521, 0.61584241, 1.57167636]])"
      ]
     },
     "execution_count": 110,
     "metadata": {},
     "output_type": "execute_result"
    }
   ],
   "source": [
    "np.abs(matrix)"
   ]
  },
  {
   "cell_type": "code",
   "execution_count": 114,
   "id": "adbe69a4",
   "metadata": {},
   "outputs": [
    {
     "name": "stdout",
     "output_type": "stream",
     "text": [
      "[ True  True False]\n",
      "[False False  True]\n",
      "[False  True False False False]\n"
     ]
    }
   ],
   "source": [
    "row = matrix[1,:] < 0\n",
    "print(row)\n",
    "row = matrix[2,:] < 0\n",
    "print(row)\n",
    "row = matrix[:,1] < 0\n",
    "print(row)"
   ]
  },
  {
   "cell_type": "code",
   "execution_count": 116,
   "id": "4d653518",
   "metadata": {},
   "outputs": [
    {
     "data": {
      "text/plain": [
       "array([[ 1.,  1.,  1.],\n",
       "       [-1., -1.,  1.],\n",
       "       [ 1.,  1., -1.],\n",
       "       [ 1.,  1., -1.],\n",
       "       [-1.,  1., -1.]])"
      ]
     },
     "execution_count": 116,
     "metadata": {},
     "output_type": "execute_result"
    }
   ],
   "source": [
    "np.sign(matrix)"
   ]
  },
  {
   "cell_type": "code",
   "execution_count": 118,
   "id": "e1429e45",
   "metadata": {},
   "outputs": [
    {
     "data": {
      "text/plain": [
       "array([[ 1.,  1.,  1.],\n",
       "       [-0., -1.,  1.],\n",
       "       [ 3.,  2., -0.],\n",
       "       [ 2.,  1., -0.],\n",
       "       [-0.,  1., -1.]])"
      ]
     },
     "execution_count": 118,
     "metadata": {},
     "output_type": "execute_result"
    }
   ],
   "source": [
    "np.ceil(matrix)"
   ]
  },
  {
   "cell_type": "code",
   "execution_count": 120,
   "id": "16769077",
   "metadata": {},
   "outputs": [
    {
     "data": {
      "text/plain": [
       "array([[ 0.,  0.,  0.],\n",
       "       [-1., -2.,  0.],\n",
       "       [ 2.,  1., -1.],\n",
       "       [ 1.,  0., -1.],\n",
       "       [-1.,  0., -2.]])"
      ]
     },
     "execution_count": 120,
     "metadata": {},
     "output_type": "execute_result"
    }
   ],
   "source": [
    "np.floor(matrix)"
   ]
  },
  {
   "cell_type": "code",
   "execution_count": 122,
   "id": "9a5dbc27",
   "metadata": {},
   "outputs": [
    {
     "name": "stdout",
     "output_type": "stream",
     "text": [
      "[[-0.13261011 -0.19561463 -0.1743431 ]\n",
      " [        nan         nan -0.35543249]\n",
      " [ 0.73711144  0.54165583         nan]\n",
      " [ 0.20016411 -0.4979058          nan]\n",
      " [        nan -0.48476417         nan]]\n"
     ]
    },
    {
     "name": "stderr",
     "output_type": "stream",
     "text": [
      "C:\\Users\\Administrator\\AppData\\Local\\Temp\\ipykernel_5736\\2462794620.py:1: RuntimeWarning: invalid value encountered in log\n",
      "  a = np.log(matrix)\n"
     ]
    },
    {
     "data": {
      "text/plain": [
       "array([[False, False, False],\n",
       "       [ True,  True, False],\n",
       "       [False, False,  True],\n",
       "       [False, False,  True],\n",
       "       [ True, False,  True]])"
      ]
     },
     "execution_count": 122,
     "metadata": {},
     "output_type": "execute_result"
    }
   ],
   "source": [
    "a = np.log(matrix)\n",
    "print(a)\n",
    "np.isnan(a) # nan : not a number, 계산 불가능"
   ]
  }
 ],
 "metadata": {
  "kernelspec": {
   "display_name": "Python 3 (ipykernel)",
   "language": "python",
   "name": "python3"
  },
  "language_info": {
   "codemirror_mode": {
    "name": "ipython",
    "version": 3
   },
   "file_extension": ".py",
   "mimetype": "text/x-python",
   "name": "python",
   "nbconvert_exporter": "python",
   "pygments_lexer": "ipython3",
   "version": "3.9.13"
  }
 },
 "nbformat": 4,
 "nbformat_minor": 5
}
