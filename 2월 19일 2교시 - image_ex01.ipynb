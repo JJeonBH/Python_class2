{
 "cells": [
  {
   "cell_type": "code",
   "execution_count": 6,
   "id": "5de77ac0",
   "metadata": {},
   "outputs": [],
   "source": [
    "# 모듈 불러오기\n",
    "from PIL import Image\n",
    "\n",
    "img = Image.open('cat.jpg')\n",
    "\n",
    "# 다양한 이미지 처리 방법\n",
    "# 1. 이미지 크기 변경\n",
    "sized = img.resize((100, 100))\n",
    "img.show()\n",
    "sized.show()"
   ]
  },
  {
   "cell_type": "code",
   "execution_count": 10,
   "id": "2bdc3432",
   "metadata": {},
   "outputs": [
    {
     "name": "stdout",
     "output_type": "stream",
     "text": [
      "이미지 크기 : 960 687\n"
     ]
    }
   ],
   "source": [
    "# 2. 이미지 크기 알아보기\n",
    "width = img.width\n",
    "height = img.height\n",
    "print(\"이미지 크기 :\", width, height)"
   ]
  },
  {
   "cell_type": "code",
   "execution_count": 12,
   "id": "ee5ac1db",
   "metadata": {},
   "outputs": [],
   "source": [
    "# 3. 현재 이미지 크기를 기준으로 2배 확대\n",
    "sized = img.resize((width*2, height*2))\n",
    "sized.show()"
   ]
  },
  {
   "cell_type": "code",
   "execution_count": 17,
   "id": "cff841e3",
   "metadata": {},
   "outputs": [],
   "source": [
    "# 4. 이미지 회전\n",
    "img2 = img.rotate(-90)\n",
    "img2.show()"
   ]
  },
  {
   "cell_type": "code",
   "execution_count": 21,
   "id": "64227bdc",
   "metadata": {},
   "outputs": [],
   "source": [
    "from PIL import ImageFilter\n",
    "\n",
    "# 5. 이미지 필터\n",
    "img3 = img.filter(ImageFilter.GaussianBlur(5))\n",
    "img3.show()"
   ]
  },
  {
   "cell_type": "code",
   "execution_count": null,
   "id": "cf19ac4d",
   "metadata": {},
   "outputs": [],
   "source": []
  }
 ],
 "metadata": {
  "kernelspec": {
   "display_name": "Python 3 (ipykernel)",
   "language": "python",
   "name": "python3"
  },
  "language_info": {
   "codemirror_mode": {
    "name": "ipython",
    "version": 3
   },
   "file_extension": ".py",
   "mimetype": "text/x-python",
   "name": "python",
   "nbconvert_exporter": "python",
   "pygments_lexer": "ipython3",
   "version": "3.9.13"
  }
 },
 "nbformat": 4,
 "nbformat_minor": 5
}
