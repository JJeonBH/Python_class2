{
 "cells": [
  {
   "cell_type": "code",
   "execution_count": 25,
   "id": "690944b3",
   "metadata": {},
   "outputs": [
    {
     "name": "stdout",
     "output_type": "stream",
     "text": [
      "<re.Match object; span=(0, 8), match='pyThon12'>\n"
     ]
    }
   ],
   "source": [
    "# 데이터 입력(사용자, 파일, 기타 입력 장치들)\n",
    "# 사용자 입력은 항상 오류를 포함한다.\n",
    "# 정규식 : 사용자의 복잡한 경우의 수를 패턴화해서 쉽게\n",
    "#          처리할 수 있도록 하는것\n",
    "# 응용분야 : 데이터 검증, 데이터 검색(복잡한 패턴)\n",
    "\n",
    "import re\n",
    "p = re.compile('ab*')\n",
    "z = re.compile('[A-Za-z]+[0-9]{2}')\n",
    "# z = re.compile('[a-z]+')\n",
    "# z = re.compile('[a-z]')\n",
    "# z = re.compile('[A-Za-z]')\n",
    "# z = re.compile('[A-Za-z0-9]+')\n",
    "# z = re.compile('[A-Za-z]+[0-9]+')\n",
    "\n",
    "# 패턴과 매칭되는지 알아보기\n",
    "m = z.match(\"pyThon123\")\n",
    "print(m)"
   ]
  },
  {
   "cell_type": "code",
   "execution_count": null,
   "id": "46fa5da5",
   "metadata": {},
   "outputs": [],
   "source": []
  }
 ],
 "metadata": {
  "kernelspec": {
   "display_name": "Python 3 (ipykernel)",
   "language": "python",
   "name": "python3"
  },
  "language_info": {
   "codemirror_mode": {
    "name": "ipython",
    "version": 3
   },
   "file_extension": ".py",
   "mimetype": "text/x-python",
   "name": "python",
   "nbconvert_exporter": "python",
   "pygments_lexer": "ipython3",
   "version": "3.9.13"
  }
 },
 "nbformat": 4,
 "nbformat_minor": 5
}
