{
 "cells": [
  {
   "cell_type": "code",
   "execution_count": 1,
   "id": "f67c4b69",
   "metadata": {},
   "outputs": [],
   "source": [
    "# 모듈 불러오기\n",
    "import numpy as np\n",
    "import pandas as pd"
   ]
  },
  {
   "cell_type": "code",
   "execution_count": 16,
   "id": "23099018",
   "metadata": {},
   "outputs": [
    {
     "name": "stdout",
     "output_type": "stream",
     "text": [
      "[ 40.  70. -50.  30.  90.  85.]\n",
      "RangeIndex(start=0, stop=6, step=1)\n"
     ]
    },
    {
     "data": {
      "text/plain": [
       "dtype('float64')"
      ]
     },
     "execution_count": 16,
     "metadata": {},
     "output_type": "execute_result"
    }
   ],
   "source": [
    "# 시리즈 데이터 생성\n",
    "# 파이썬의 모든 데이터는 리스트로 존재한다.\n",
    "data = [4, 7, -5, 3, 9, 8.5]\n",
    "obj = pd.Series(data)\n",
    "val = obj.values * 10\n",
    "print(val)\n",
    "idx = obj.index\n",
    "print(idx)\n",
    "obj.dtype"
   ]
  },
  {
   "cell_type": "code",
   "execution_count": 27,
   "id": "683c8666",
   "metadata": {},
   "outputs": [
    {
     "name": "stdout",
     "output_type": "stream",
     "text": [
      "a    4.0\n",
      "b    7.0\n",
      "c   -5.0\n",
      "d    3.0\n",
      "e    9.0\n",
      "f    8.5\n",
      "dtype: float64\n",
      "4.0\n",
      "4.0\n"
     ]
    }
   ],
   "source": [
    "obj2 = pd.Series(data, index=['a', 'b', 'c', 'd', 'e', 'f'])\n",
    "print(obj2)\n",
    "print(obj2[0])\n",
    "print(obj2['a'])"
   ]
  },
  {
   "cell_type": "code",
   "execution_count": 34,
   "id": "94618a7c",
   "metadata": {},
   "outputs": [
    {
     "name": "stdout",
     "output_type": "stream",
     "text": [
      "Kim        35000\n",
      "Beomwoo    67000\n",
      "Joan       12000\n",
      "Choi        4000\n",
      "dtype: int64\n",
      "35000\n",
      "35000\n",
      "Kim        35000\n",
      "Beomwoo    67000\n",
      "dtype: int64\n"
     ]
    }
   ],
   "source": [
    "# dictionary의 key가 Series의 index가 된다\n",
    "# 파이썬의 딕셔너리 데이터가 시리즈로 변환 가능하다.\n",
    "sdata = {'Kim': 35000, 'Beomwoo': 67000, 'Joan': 12000, 'Choi': 4000}\n",
    "obj3 = pd.Series(sdata)\n",
    "print(obj3)\n",
    "print(obj3['Kim'])\n",
    "print(obj3[0])\n",
    "print(obj3[0:2])"
   ]
  },
  {
   "cell_type": "code",
   "execution_count": 40,
   "id": "83225860",
   "metadata": {},
   "outputs": [
    {
     "name": "stdout",
     "output_type": "stream",
     "text": [
      "A    35000\n",
      "B    67000\n",
      "C    12000\n",
      "D     4000\n",
      "dtype: int64\n",
      "35000\n",
      "35000\n"
     ]
    }
   ],
   "source": [
    "idx1 = ['A', 'B', 'C', 'D']\n",
    "obj3.index = idx1\n",
    "print(obj3)\n",
    "print(obj3['A'])\n",
    "print(obj3[0])"
   ]
  },
  {
   "cell_type": "code",
   "execution_count": 44,
   "id": "bd017847",
   "metadata": {},
   "outputs": [
    {
     "data": {
      "text/html": [
       "<div>\n",
       "<style scoped>\n",
       "    .dataframe tbody tr th:only-of-type {\n",
       "        vertical-align: middle;\n",
       "    }\n",
       "\n",
       "    .dataframe tbody tr th {\n",
       "        vertical-align: top;\n",
       "    }\n",
       "\n",
       "    .dataframe thead th {\n",
       "        text-align: right;\n",
       "    }\n",
       "</style>\n",
       "<table border=\"1\" class=\"dataframe\">\n",
       "  <thead>\n",
       "    <tr style=\"text-align: right;\">\n",
       "      <th></th>\n",
       "      <th>name</th>\n",
       "      <th>year</th>\n",
       "      <th>points</th>\n",
       "    </tr>\n",
       "  </thead>\n",
       "  <tbody>\n",
       "    <tr>\n",
       "      <th>0</th>\n",
       "      <td>Beomwoo</td>\n",
       "      <td>2013</td>\n",
       "      <td>1.5</td>\n",
       "    </tr>\n",
       "    <tr>\n",
       "      <th>1</th>\n",
       "      <td>Beomwoo</td>\n",
       "      <td>2014</td>\n",
       "      <td>1.7</td>\n",
       "    </tr>\n",
       "    <tr>\n",
       "      <th>2</th>\n",
       "      <td>Beomwoo</td>\n",
       "      <td>2015</td>\n",
       "      <td>3.6</td>\n",
       "    </tr>\n",
       "    <tr>\n",
       "      <th>3</th>\n",
       "      <td>Kim</td>\n",
       "      <td>2016</td>\n",
       "      <td>2.4</td>\n",
       "    </tr>\n",
       "    <tr>\n",
       "      <th>4</th>\n",
       "      <td>Park</td>\n",
       "      <td>2015</td>\n",
       "      <td>2.9</td>\n",
       "    </tr>\n",
       "  </tbody>\n",
       "</table>\n",
       "</div>"
      ],
      "text/plain": [
       "      name  year  points\n",
       "0  Beomwoo  2013     1.5\n",
       "1  Beomwoo  2014     1.7\n",
       "2  Beomwoo  2015     3.6\n",
       "3      Kim  2016     2.4\n",
       "4     Park  2015     2.9"
      ]
     },
     "execution_count": 44,
     "metadata": {},
     "output_type": "execute_result"
    }
   ],
   "source": [
    "# 데이터프레임을 생성\n",
    "# Data Frame 정의하기\n",
    "# 이전에 DataFrame에 들어갈 데이터를 정의해주어야 하는데,\n",
    "# 이는 python의 dictionary 또는 numpy의 array로 정의할 수 있다.\n",
    "data = {'name': ['Beomwoo', 'Beomwoo', 'Beomwoo', 'Kim', 'Park'],\n",
    "        'year': [2013, 2014, 2015, 2016, 2015],\n",
    "        'points': [1.5, 1.7, 3.6, 2.4, 2.9]}\n",
    "df = pd.DataFrame(data)\n",
    "df"
   ]
  },
  {
   "cell_type": "code",
   "execution_count": 50,
   "id": "22959c9b",
   "metadata": {},
   "outputs": [
    {
     "data": {
      "text/plain": [
       "Index(['name', 'year', 'points'], dtype='object')"
      ]
     },
     "execution_count": 50,
     "metadata": {},
     "output_type": "execute_result"
    }
   ],
   "source": [
    "df.columns"
   ]
  },
  {
   "cell_type": "code",
   "execution_count": 55,
   "id": "3f01caa7",
   "metadata": {},
   "outputs": [
    {
     "data": {
      "text/plain": [
       "0    Beomwoo\n",
       "1    Beomwoo\n",
       "2    Beomwoo\n",
       "3        Kim\n",
       "4       Park\n",
       "Name: name, dtype: object"
      ]
     },
     "execution_count": 55,
     "metadata": {},
     "output_type": "execute_result"
    }
   ],
   "source": [
    "df['name']"
   ]
  },
  {
   "cell_type": "code",
   "execution_count": 57,
   "id": "b7208d2c",
   "metadata": {},
   "outputs": [
    {
     "data": {
      "text/plain": [
       "array(['Beomwoo', 'Beomwoo', 'Beomwoo', 'Kim', 'Park'], dtype=object)"
      ]
     },
     "execution_count": 57,
     "metadata": {},
     "output_type": "execute_result"
    }
   ],
   "source": [
    "df['name'].values"
   ]
  },
  {
   "cell_type": "code",
   "execution_count": 59,
   "id": "7a17a7a9",
   "metadata": {},
   "outputs": [
    {
     "data": {
      "text/plain": [
       "'Kim'"
      ]
     },
     "execution_count": 59,
     "metadata": {},
     "output_type": "execute_result"
    }
   ],
   "source": [
    "df['name'].values[3]"
   ]
  }
 ],
 "metadata": {
  "kernelspec": {
   "display_name": "Python 3 (ipykernel)",
   "language": "python",
   "name": "python3"
  },
  "language_info": {
   "codemirror_mode": {
    "name": "ipython",
    "version": 3
   },
   "file_extension": ".py",
   "mimetype": "text/x-python",
   "name": "python",
   "nbconvert_exporter": "python",
   "pygments_lexer": "ipython3",
   "version": "3.9.13"
  }
 },
 "nbformat": 4,
 "nbformat_minor": 5
}
