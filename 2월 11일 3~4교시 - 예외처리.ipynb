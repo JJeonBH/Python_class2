{
 "cells": [
  {
   "cell_type": "code",
   "execution_count": 11,
   "id": "82c98f9f",
   "metadata": {},
   "outputs": [
    {
     "name": "stdout",
     "output_type": "stream",
     "text": [
      "세종대왕\n"
     ]
    }
   ],
   "source": [
    "# 예외처리\n",
    "a = 10\n",
    "b = a - 10\n",
    "if b > 0:\n",
    "    print(a / b)\n",
    "\n",
    "name = ['홍길동', '이순신', '세종대왕']\n",
    "print(name[2])"
   ]
  },
  {
   "cell_type": "code",
   "execution_count": 17,
   "id": "6b054860",
   "metadata": {},
   "outputs": [
    {
     "name": "stdout",
     "output_type": "stream",
     "text": [
      "정수입력 : 3030\n",
      "입력한 값은 : 3030\n"
     ]
    }
   ],
   "source": [
    "# 조건문을 이용한 예외처리\n",
    "number = input('정수입력 : ')\n",
    "\n",
    "# 입력값이 숫자인지 체크\n",
    "if number.isdigit():\n",
    "    num = int(number)\n",
    "    print('입력한 값은 :', num)\n",
    "else:\n",
    "    print('제발 정수를 입력해 주세요')\n",
    "    "
   ]
  },
  {
   "cell_type": "code",
   "execution_count": 22,
   "id": "2b25e4f1",
   "metadata": {},
   "outputs": [
    {
     "name": "stdout",
     "output_type": "stream",
     "text": [
      "정수입력 : 1010\n",
      "입력한 값은 : 1010\n"
     ]
    }
   ],
   "source": [
    "# 예외처리 구문을 이용한 예외처리\n",
    "number = input('정수입력 : ')\n",
    "try:\n",
    "    num = int(number)\n",
    "    print('입력한 값은 :', num)\n",
    "except:\n",
    "    print('제발 정수를 입력해주세요')"
   ]
  },
  {
   "cell_type": "code",
   "execution_count": 24,
   "id": "fae7f324",
   "metadata": {},
   "outputs": [
    {
     "name": "stdout",
     "output_type": "stream",
     "text": [
      "정수입력 : aaaa\n",
      "제발 정수를 입력해주세요\n"
     ]
    }
   ],
   "source": [
    "# 예외처리 구문을 이용한 예외처리\n",
    "number = input('정수입력 : ')\n",
    "try:\n",
    "    num = int(number)\n",
    "    print('입력한 값은 :', num)\n",
    "except:\n",
    "    print('제발 정수를 입력해주세요')"
   ]
  },
  {
   "cell_type": "code",
   "execution_count": 26,
   "id": "25b8703f",
   "metadata": {},
   "outputs": [
    {
     "name": "stdout",
     "output_type": "stream",
     "text": [
      "['52', '270', '103']입니다\n"
     ]
    }
   ],
   "source": [
    "# 예외처리 응용문제\n",
    "# 숫자로 구성된 값만을 추출하여 다른 저장소에 옮겨넣기\n",
    "# 데이터 준비\n",
    "data_list = [\"52\", \"270\", \"스파이\", \"103\", \"철수\"]\n",
    "\n",
    "# 숫자를 저장할 변수\n",
    "num_list = []\n",
    "\n",
    "for item in data_list:\n",
    "    try:\n",
    "        float(item) # 여기서 문자가 입력되면 에러 발생\n",
    "        num_list.append(item)\n",
    "    except:\n",
    "        pass # 통과하고 다음 데이터 처리\n",
    "    \n",
    "print(\"{}입니다\".format(num_list))"
   ]
  },
  {
   "cell_type": "code",
   "execution_count": 28,
   "id": "dae75bf1",
   "metadata": {},
   "outputs": [
    {
     "name": "stdout",
     "output_type": "stream",
     "text": [
      "['52', '270', '103']입니다\n"
     ]
    }
   ],
   "source": [
    "# 예외처리 응용문제\n",
    "# 숫자로 구성된 값만을 추출하여 다른 저장소에 옮겨넣기\n",
    "# 데이터 준비\n",
    "data_list = [\"52\", \"270\", \"스파이\", \"103\", \"철수\"]\n",
    "\n",
    "# 숫자를 저장할 변수\n",
    "num_list = []\n",
    "\n",
    "for item in data_list:\n",
    "    try: # 예외가 발생할 가능성이 있는 문장\n",
    "        float(item) # 여기서 문자가 입력되면 에러 발생\n",
    "    except:\n",
    "        pass # 통과하고 다음 데이터 처리\n",
    "    else: # 예외가 발생하지 않으면 수행할 문장\n",
    "        num_list.append(item)\n",
    "    \n",
    "print(\"{}입니다\".format(num_list))"
   ]
  },
  {
   "cell_type": "code",
   "execution_count": 32,
   "id": "6a4fd0a3",
   "metadata": {},
   "outputs": [
    {
     "name": "stdout",
     "output_type": "stream",
     "text": [
      "['52', '270', '103']입니다\n",
      "문자의 개수 : 2\n",
      "숫자의 개수 : 3\n"
     ]
    }
   ],
   "source": [
    "# 예외처리 응용문제\n",
    "# 숫자로 구성된 값만을 추출하여 다른 저장소에 옮겨넣고\n",
    "# 옮겨넣은 숫자의 개수를 출력하세요.\n",
    "# 데이터 준비\n",
    "data_list = [\"52\", \"270\", \"스파이\", \"103\", \"철수\"]\n",
    "\n",
    "# 숫자를 저장할 변수\n",
    "num_list = []\n",
    "\n",
    "# 카운트 변수 준비\n",
    "count = 0\n",
    "\n",
    "list_size = len(data_list)\n",
    "\n",
    "for item in data_list:\n",
    "    try: # 예외가 발생할 가능성이 있는 문장\n",
    "        float(item) # 여기서 문자가 입력되면 에러 발생\n",
    "    except:\n",
    "        count += 1\n",
    "    else: # 예외가 발생하지 않으면 수행할 문장\n",
    "        num_list.append(item)\n",
    "    \n",
    "print(\"{}입니다\".format(num_list))\n",
    "\n",
    "print('문자의 개수 :', count)\n",
    "\n",
    "# 숫자의 개수 출력\n",
    "print('숫자의 개수 :', list_size - count)"
   ]
  },
  {
   "cell_type": "code",
   "execution_count": 33,
   "id": "5c443902",
   "metadata": {},
   "outputs": [
    {
     "name": "stdout",
     "output_type": "stream",
     "text": [
      "예외발생하든 하지 않든 수행한다.\n",
      "자원을 사용하는 경우에 자원사용중 예외 발생하고 이를 회수할 때\n",
      "예외발생하든 하지 않든 수행한다.\n",
      "자원을 사용하는 경우에 자원사용중 예외 발생하고 이를 회수할 때\n",
      "예외발생하든 하지 않든 수행한다.\n",
      "자원을 사용하는 경우에 자원사용중 예외 발생하고 이를 회수할 때\n",
      "예외발생하든 하지 않든 수행한다.\n",
      "자원을 사용하는 경우에 자원사용중 예외 발생하고 이를 회수할 때\n",
      "예외발생하든 하지 않든 수행한다.\n",
      "자원을 사용하는 경우에 자원사용중 예외 발생하고 이를 회수할 때\n",
      "['52', '270', '103']입니다\n",
      "문자의 개수 : 2\n",
      "숫자의 개수 : 3\n"
     ]
    }
   ],
   "source": [
    "# 예외처리 응용문제\n",
    "# 숫자로 구성된 값만을 추출하여 다른 저장소에 옮겨넣고\n",
    "# 옮겨넣은 숫자의 개수를 출력하세요.\n",
    "# 데이터 준비\n",
    "data_list = [\"52\", \"270\", \"스파이\", \"103\", \"철수\"]\n",
    "\n",
    "# 숫자를 저장할 변수\n",
    "num_list = []\n",
    "\n",
    "# 카운트 변수 준비\n",
    "count = 0\n",
    "\n",
    "list_size = len(data_list)\n",
    "\n",
    "for item in data_list:\n",
    "    try: # 예외가 발생할 가능성이 있는 문장\n",
    "        float(item) # 여기서 문자가 입력되면 에러 발생\n",
    "    except:\n",
    "        count += 1\n",
    "    else: # 예외가 발생하지 않으면 수행할 문장\n",
    "        num_list.append(item)\n",
    "    finally:\n",
    "        print('예외발생하든 하지 않든 수행한다.')\n",
    "        print('보통 자원을 사용하는 경우에 쓰며, 자원사용중 예외 발생하고 이를 강제 회수할 때')\n",
    "    \n",
    "print(\"{}입니다\".format(num_list))\n",
    "\n",
    "print('문자의 개수 :', count)\n",
    "\n",
    "# 숫자의 개수 출력\n",
    "print('숫자의 개수 :', list_size - count)"
   ]
  },
  {
   "cell_type": "code",
   "execution_count": 36,
   "id": "a81add40",
   "metadata": {},
   "outputs": [
    {
     "name": "stdout",
     "output_type": "stream",
     "text": [
      "정수 입력 : ss\n",
      "type(exception) : <class 'ValueError'>\n",
      "exception : invalid literal for int() with base 10: 'ss'\n"
     ]
    }
   ],
   "source": [
    "# 예외 구문 출력\n",
    "num = [1, 2, 3, 4, 5]\n",
    "try:\n",
    "    num2 = int(input('정수 입력 : '))\n",
    "    print(num2)\n",
    "except Exception as exception: # exception 예외 메시지 담는 변수\n",
    "    print('type(exception) :', type(exception))\n",
    "    print('exception :', exception)\n",
    "    "
   ]
  },
  {
   "cell_type": "code",
   "execution_count": 37,
   "id": "4530a8b6",
   "metadata": {
    "scrolled": false
   },
   "outputs": [
    {
     "name": "stdout",
     "output_type": "stream",
     "text": [
      "정수 입력 : sss\n"
     ]
    },
    {
     "ename": "ValueError",
     "evalue": "invalid literal for int() with base 10: 'sss'",
     "output_type": "error",
     "traceback": [
      "\u001b[1;31m---------------------------------------------------------------------------\u001b[0m",
      "\u001b[1;31mValueError\u001b[0m                                Traceback (most recent call last)",
      "\u001b[1;32m~\\AppData\\Local\\Temp\\ipykernel_5564\\2428444302.py\u001b[0m in \u001b[0;36m<module>\u001b[1;34m\u001b[0m\n\u001b[0;32m      1\u001b[0m \u001b[0mnum\u001b[0m \u001b[1;33m=\u001b[0m \u001b[1;33m[\u001b[0m\u001b[1;36m1\u001b[0m\u001b[1;33m,\u001b[0m \u001b[1;36m2\u001b[0m\u001b[1;33m,\u001b[0m \u001b[1;36m3\u001b[0m\u001b[1;33m,\u001b[0m \u001b[1;36m4\u001b[0m\u001b[1;33m,\u001b[0m \u001b[1;36m5\u001b[0m\u001b[1;33m]\u001b[0m\u001b[1;33m\u001b[0m\u001b[1;33m\u001b[0m\u001b[0m\n\u001b[1;32m----> 2\u001b[1;33m \u001b[0mnum2\u001b[0m \u001b[1;33m=\u001b[0m \u001b[0mint\u001b[0m\u001b[1;33m(\u001b[0m\u001b[0minput\u001b[0m\u001b[1;33m(\u001b[0m\u001b[1;34m'정수 입력 : '\u001b[0m\u001b[1;33m)\u001b[0m\u001b[1;33m)\u001b[0m\u001b[1;33m\u001b[0m\u001b[1;33m\u001b[0m\u001b[0m\n\u001b[0m\u001b[0;32m      3\u001b[0m \u001b[0mprint\u001b[0m\u001b[1;33m(\u001b[0m\u001b[0mnum2\u001b[0m\u001b[1;33m)\u001b[0m\u001b[1;33m\u001b[0m\u001b[1;33m\u001b[0m\u001b[0m\n",
      "\u001b[1;31mValueError\u001b[0m: invalid literal for int() with base 10: 'sss'"
     ]
    }
   ],
   "source": [
    "num = [1, 2, 3, 4, 5]\n",
    "num2 = int(input('정수 입력 : '))\n",
    "print(num2)"
   ]
  }
 ],
 "metadata": {
  "kernelspec": {
   "display_name": "Python 3 (ipykernel)",
   "language": "python",
   "name": "python3"
  },
  "language_info": {
   "codemirror_mode": {
    "name": "ipython",
    "version": 3
   },
   "file_extension": ".py",
   "mimetype": "text/x-python",
   "name": "python",
   "nbconvert_exporter": "python",
   "pygments_lexer": "ipython3",
   "version": "3.9.13"
  }
 },
 "nbformat": 4,
 "nbformat_minor": 5
}
